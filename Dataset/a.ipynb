{
 "cells": [
  {
   "cell_type": "code",
   "execution_count": null,
   "metadata": {},
   "outputs": [],
   "source": [
    "import pyshark\n",
    "import nest_asyncio\n",
    "\n",
    "# Apply nest_asyncio if an event loop is already running\n",
    "nest_asyncio.apply()\n",
    "\n",
    "packets = pyshark.FileCapture('./idel1.pcapng')\n"
   ]
  },
  {
   "cell_type": "code",
   "execution_count": 50,
   "metadata": {},
   "outputs": [],
   "source": [
    "packet = packets[2]\n",
    "source_addr = packet.wpan.src16 if hasattr(packet.wpan, 'src16') else None\n",
    "\n",
    "source_addr"
   ]
  },
  {
   "cell_type": "code",
   "execution_count": 53,
   "metadata": {},
   "outputs": [],
   "source": [
    "import pandas as pd\n",
    "\n",
    "df = pd.read_csv('/home/antonio/Desktop/ClassIOT/Niccol-/final_dataFrame_v2_anto.csv')\n",
    "filtered_df = df[df['Source IEEE'] != df['Source Zigbee']]\n",
    "\n",
    "#remove nan\n",
    "filtered_df = filtered_df.dropna(subset=['Source IEEE', 'Source Zigbee'])"
   ]
  },
  {
   "cell_type": "code",
   "execution_count": 115,
   "metadata": {},
   "outputs": [],
   "source": [
    "# Access the 15th packet\n",
    "packet = packets[15]\n",
    "\n",
    "# Generate a custom \"Info column\"\n",
    "info_parts = []\n",
    "for layer in packet.layers:\n",
    "    try:\n",
    "        # Attempt to get the 'Command' field\n",
    "        command = layer.get_field('Command')\n",
    "        if command:\n",
    "            info_parts.append(f\"{layer.layer_name}: {command}\")\n",
    "        else:\n",
    "            info_parts.append(f\"{layer.layer_name}: No Command\")\n",
    "    except AttributeError:\n",
    "        # Handle layers without a 'Command' field\n",
    "        info_parts.append(f\"{layer.layer_name}: No Command\")\n",
    "\n",
    "# Combine all parts into an \"Info-like\" string\n",
    "info_column = ', '.join(info_parts)"
   ]
  },
  {
   "cell_type": "code",
   "execution_count": 111,
   "metadata": {},
   "outputs": [
    {
     "ename": "AttributeError",
     "evalue": "No attribute named info",
     "output_type": "error",
     "traceback": [
      "\u001b[0;31m---------------------------------------------------------------------------\u001b[0m",
      "\u001b[0;31mAttributeError\u001b[0m                            Traceback (most recent call last)",
      "Cell \u001b[0;32mIn[111], line 1\u001b[0m\n\u001b[0;32m----> 1\u001b[0m \u001b[43mpackets\u001b[49m\u001b[43m[\u001b[49m\u001b[38;5;241;43m15\u001b[39;49m\u001b[43m]\u001b[49m\u001b[38;5;241;43m.\u001b[39;49m\u001b[43minfo\u001b[49m\n",
      "File \u001b[0;32m~/Desktop/FL IoT Forensics/Niccol-/venv/lib/python3.10/site-packages/pyshark/packet/packet.py:125\u001b[0m, in \u001b[0;36mPacket.__getattr__\u001b[0;34m(self, item)\u001b[0m\n\u001b[1;32m    123\u001b[0m     \u001b[38;5;28;01mif\u001b[39;00m layer\u001b[38;5;241m.\u001b[39mlayer_name\u001b[38;5;241m.\u001b[39mlower() \u001b[38;5;241m==\u001b[39m item\u001b[38;5;241m.\u001b[39mlower():\n\u001b[1;32m    124\u001b[0m         \u001b[38;5;28;01mreturn\u001b[39;00m layer\n\u001b[0;32m--> 125\u001b[0m \u001b[38;5;28;01mraise\u001b[39;00m \u001b[38;5;167;01mAttributeError\u001b[39;00m(\u001b[38;5;124mf\u001b[39m\u001b[38;5;124m\"\u001b[39m\u001b[38;5;124mNo attribute named \u001b[39m\u001b[38;5;132;01m{\u001b[39;00mitem\u001b[38;5;132;01m}\u001b[39;00m\u001b[38;5;124m\"\u001b[39m)\n",
      "\u001b[0;31mAttributeError\u001b[0m: No attribute named info"
     ]
    }
   ],
   "source": [
    "packets[15].info"
   ]
  },
  {
   "cell_type": "code",
   "execution_count": 92,
   "metadata": {},
   "outputs": [
    {
     "data": {
      "text/plain": [
       "['',\n",
       " '__class__',\n",
       " '__delattr__',\n",
       " '__dir__',\n",
       " '__doc__',\n",
       " '__eq__',\n",
       " '__format__',\n",
       " '__ge__',\n",
       " '__getattr__',\n",
       " '__getattribute__',\n",
       " '__getstate__',\n",
       " '__gt__',\n",
       " '__hash__',\n",
       " '__init__',\n",
       " '__init_subclass__',\n",
       " '__le__',\n",
       " '__lt__',\n",
       " '__module__',\n",
       " '__ne__',\n",
       " '__new__',\n",
       " '__reduce__',\n",
       " '__reduce_ex__',\n",
       " '__repr__',\n",
       " '__setattr__',\n",
       " '__setstate__',\n",
       " '__sizeof__',\n",
       " '__slots__',\n",
       " '__str__',\n",
       " '__subclasshook__',\n",
       " '_all_fields',\n",
       " '_field_prefix',\n",
       " '_get_all_field_lines',\n",
       " '_get_all_fields_with_alternates',\n",
       " '_get_field_or_layer_repr',\n",
       " '_get_field_repr',\n",
       " '_layer_name',\n",
       " '_pretty_print_layer_fields',\n",
       " '_sanitize_field_name',\n",
       " 'attr_bitmap8',\n",
       " 'attr_data_type',\n",
       " 'attr_status',\n",
       " 'attr_uint48',\n",
       " 'cmd_id',\n",
       " 'cmd_tsn',\n",
       " 'ddr',\n",
       " 'dir',\n",
       " 'field_names',\n",
       " 'get',\n",
       " 'get_field',\n",
       " 'get_field_by_showname',\n",
       " 'get_field_value',\n",
       " 'has_field',\n",
       " 'layer_name',\n",
       " 'ms',\n",
       " 'pretty_print',\n",
       " 'raw_mode',\n",
       " 'type',\n",
       " 'zbee_zcl_se_met_attr_id']"
      ]
     },
     "execution_count": 92,
     "metadata": {},
     "output_type": "execute_result"
    }
   ],
   "source": [
    "\n",
    "dir(aa)"
   ]
  },
  {
   "cell_type": "code",
   "execution_count": null,
   "metadata": {},
   "outputs": [
    {
     "name": "stdout",
     "output_type": "stream",
     "text": [
      "Layer ZBEE_ZCL\n",
      ":\tFrame Control Field: Profile-wide (0x18)\n",
      "\t.... ..00 = Frame Type: Profile-wide (0x0)\n",
      "\t.... .0.. = Manufacturer Specific: False\n",
      "\t.... 1... = Direction: Server to Client\n",
      "\t...1 .... = Disable Default Response: True\n",
      "\tSequence Number: 182\n",
      "\tCommand: Read Attributes Response (0x01)\n",
      "\tAttribute: Current Summation Delivered (0x0000)\n",
      "\tStatus: Success (0x00)\n",
      "\tData Type: 48-Bit Unsigned Integer (0x25)\n",
      "\tUint48: 225 (0x00000000000000e1)\n",
      "\tBitmap8: 0x00\n",
      "\tStatus Record, Uint: 225\n",
      "\tStatus Record, Bitmap: 00\n",
      "\tAttribute: Status (0x0200)\n",
      "\tStatus: Success (0x00)\n",
      "\tData Type: 8-Bit Bitmap (0x18)\n"
     ]
    }
   ],
   "source": [
    "aa.pretty_print()"
   ]
  },
  {
   "cell_type": "code",
   "execution_count": 86,
   "metadata": {},
   "outputs": [
    {
     "name": "stdout",
     "output_type": "stream",
     "text": [
      "Command information not found in the ZBEE_ZCL layer.\n"
     ]
    }
   ],
   "source": [
    "zbee_zcl_layer = (packets[15][-1])\n",
    "\n",
    "\n",
    "# Extract the 'Command' field\n",
    "if zbee_zcl_layer:\n",
    "    command = zbee_zcl_layer.get_field('Command')\n",
    "    if command:\n",
    "        print(f\"Command Information: {command}\")\n",
    "    else:\n",
    "        print(\"Command information not found in the ZBEE_ZCL layer.\")\n",
    "else:\n",
    "    print(\"ZBEE_ZCL layer not found in the packet.\")"
   ]
  }
 ],
 "metadata": {
  "kernelspec": {
   "display_name": "venv",
   "language": "python",
   "name": "python3"
  },
  "language_info": {
   "codemirror_mode": {
    "name": "ipython",
    "version": 3
   },
   "file_extension": ".py",
   "mimetype": "text/x-python",
   "name": "python",
   "nbconvert_exporter": "python",
   "pygments_lexer": "ipython3",
   "version": "2.7.18"
  }
 },
 "nbformat": 4,
 "nbformat_minor": 2
}
